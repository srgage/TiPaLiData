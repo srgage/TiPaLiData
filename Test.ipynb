{
 "cells": [
  {
   "cell_type": "code",
   "execution_count": 5,
   "id": "fe22c27e-11e8-4120-80cf-6da23e8c2028",
   "metadata": {},
   "outputs": [],
   "source": [
    "from networktables import NetworkTables\n",
    "import logging"
   ]
  },
  {
   "cell_type": "code",
   "execution_count": 7,
   "id": "e940238e-7d42-4b03-b5ee-0b321826567e",
   "metadata": {},
   "outputs": [],
   "source": [
    "logger = logging.getLogger('nt')\n",
    "logger.setLevel(logging.DEBUG)\n",
    "logging.basicConfig()"
   ]
  },
  {
   "cell_type": "code",
   "execution_count": 9,
   "id": "2475d6c7-2d81-4c87-af1a-bd657badf351",
   "metadata": {},
   "outputs": [
    {
     "name": "stderr",
     "output_type": "stream",
     "text": [
      "INFO:nt:NetworkTables initialized in client mode\n",
      "DEBUG:nt.th:Started thread nt-dispatch-thread-0\n",
      "DEBUG:nt.th:Started thread nt-client-thread-0\n"
     ]
    },
    {
     "data": {
      "text/plain": [
       "False"
      ]
     },
     "execution_count": 9,
     "metadata": {},
     "output_type": "execute_result"
    }
   ],
   "source": [
    "NetworkTables.initialize(server=\"127.0.0.1\")"
   ]
  },
  {
   "cell_type": "code",
   "execution_count": 11,
   "id": "d19959b6-6afc-4a35-a4da-a86f9890cf35",
   "metadata": {},
   "outputs": [],
   "source": [
    "tipali = NetworkTables.getTable(\"TiPaLi\")"
   ]
  },
  {
   "cell_type": "code",
   "execution_count": 25,
   "id": "f0a25053-4bfb-4138-b420-ee0af8a847d2",
   "metadata": {},
   "outputs": [
    {
     "data": {
      "text/plain": [
       "'MANUAL_ADJUST'"
      ]
     },
     "execution_count": 25,
     "metadata": {},
     "output_type": "execute_result"
    }
   ],
   "source": [
    "tipali.getString(\"State\", None)"
   ]
  },
  {
   "cell_type": "code",
   "execution_count": 19,
   "id": "5a16a402-225c-496f-bd2f-da65f88e66cc",
   "metadata": {},
   "outputs": [
    {
     "data": {
      "text/plain": [
       "360.3692307692308"
      ]
     },
     "execution_count": 19,
     "metadata": {},
     "output_type": "execute_result"
    }
   ],
   "source": [
    "tipali.getNumber(\"PanAngle\", None)"
   ]
  },
  {
   "cell_type": "code",
   "execution_count": 29,
   "id": "c2e01ace-3eed-4ea0-b37d-837d1c72225b",
   "metadata": {},
   "outputs": [],
   "source": [
    "state = None"
   ]
  },
  {
   "cell_type": "code",
   "execution_count": 31,
   "id": "805dee01-639b-4451-9f3f-8907a5970a3d",
   "metadata": {},
   "outputs": [],
   "source": [
    "def changeHandler(table, key, value, isNew):\n",
    "    global state\n",
    "    if key == 'State':\n",
    "        state = value\n",
    "    print(f'{key}:{value}')"
   ]
  },
  {
   "cell_type": "code",
   "execution_count": 33,
   "id": "92b3b0ce-c84c-45aa-b99f-d43f8d1448f6",
   "metadata": {},
   "outputs": [],
   "source": [
    "tipali.addEntryListener(changeHandler)"
   ]
  },
  {
   "cell_type": "code",
   "execution_count": 27,
   "id": "224219bd-c94f-45b2-b335-52a76daaf2da",
   "metadata": {},
   "outputs": [],
   "source": [
    "tipali.removeEntryListener(changeHandler)"
   ]
  },
  {
   "cell_type": "code",
   "execution_count": 43,
   "id": "e65bb4f0-946a-4e18-8803-f06ff61047e0",
   "metadata": {},
   "outputs": [
    {
     "name": "stdout",
     "output_type": "stream",
     "text": [
      "PanAngle:156.30769230769232\n"
     ]
    },
    {
     "data": {
      "text/plain": [
       "'ROTATE_COLLECT'"
      ]
     },
     "execution_count": 43,
     "metadata": {},
     "output_type": "execute_result"
    }
   ],
   "source": [
    "state"
   ]
  },
  {
   "cell_type": "code",
   "execution_count": 45,
   "id": "9dc72782-60f1-4014-9d2f-b03020c11172",
   "metadata": {},
   "outputs": [
    {
     "data": {
      "text/plain": [
       "63.01538461538462"
      ]
     },
     "execution_count": 45,
     "metadata": {},
     "output_type": "execute_result"
    }
   ],
   "source": [
    "tipali.getNumber(\"TiltAngle\", None)"
   ]
  },
  {
   "cell_type": "code",
   "execution_count": null,
   "id": "5eb0ca51-4389-4e87-a6f7-f52fb9293614",
   "metadata": {},
   "outputs": [],
   "source": []
  }
 ],
 "metadata": {
  "kernelspec": {
   "display_name": "Python [conda env:base] *",
   "language": "python",
   "name": "conda-base-py"
  },
  "language_info": {
   "codemirror_mode": {
    "name": "ipython",
    "version": 3
   },
   "file_extension": ".py",
   "mimetype": "text/x-python",
   "name": "python",
   "nbconvert_exporter": "python",
   "pygments_lexer": "ipython3",
   "version": "3.12.7"
  }
 },
 "nbformat": 4,
 "nbformat_minor": 5
}
