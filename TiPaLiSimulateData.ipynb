{
 "cells": [
  {
   "cell_type": "code",
   "execution_count": 1,
   "id": "6e2b2c10-5482-42cd-9a6d-86d04a3e6d22",
   "metadata": {},
   "outputs": [],
   "source": [
    "import math\n",
    "import time"
   ]
  },
  {
   "cell_type": "code",
   "execution_count": 3,
   "id": "e4de349c-cf83-4c3e-a75c-4a6097f567b1",
   "metadata": {},
   "outputs": [
    {
     "name": "stderr",
     "output_type": "stream",
     "text": [
      "INFO:nt:NetworkTables initialized in server mode\n",
      "DEBUG:nt.th:Started thread nt-dispatch-thread-0\n",
      "DEBUG:nt.th:Started thread nt-server-thread-0\n"
     ]
    },
    {
     "data": {
      "text/plain": [
       "True"
      ]
     },
     "execution_count": 3,
     "metadata": {},
     "output_type": "execute_result"
    },
    {
     "name": "stderr",
     "output_type": "stream",
     "text": [
      "DEBUG:nt:Listening on  1735\n"
     ]
    }
   ],
   "source": [
    "from networktables import NetworkTables\n",
    "\n",
    "import logging\n",
    "logging.basicConfig(level=logging.DEBUG)\n",
    "\n",
    "NetworkTables.initialize()"
   ]
  },
  {
   "cell_type": "code",
   "execution_count": 5,
   "id": "5b2de6ec-3458-4297-8be1-6f89ade0ce07",
   "metadata": {},
   "outputs": [],
   "source": [
    "tipali = NetworkTables.getTable(\"TiPaLi\")"
   ]
  },
  {
   "cell_type": "code",
   "execution_count": 7,
   "id": "c9e4f7e3-59b3-4329-b3ec-7bb729b4c576",
   "metadata": {},
   "outputs": [
    {
     "data": {
      "text/plain": [
       "True"
      ]
     },
     "execution_count": 7,
     "metadata": {},
     "output_type": "execute_result"
    }
   ],
   "source": [
    "tipali.putString(\"State\", 'STANDBY')\n",
    "tipali.putNumber(\"TiltAngle\", 0.0)\n",
    "tipali.putNumber(\"PanAngle\", 0.0)\n",
    "tipali.putNumber(\"GroundDistance\", 0.0)\n",
    "tipali.putNumber(\"SlopeDistance\", 0.0)"
   ]
  },
  {
   "cell_type": "code",
   "execution_count": 9,
   "id": "ee552637-007d-4c62-aa69-24e570131178",
   "metadata": {},
   "outputs": [
    {
     "data": {
      "text/plain": [
       "True"
      ]
     },
     "execution_count": 9,
     "metadata": {},
     "output_type": "execute_result"
    }
   ],
   "source": [
    "# simulate a run\n",
    "camera_height = 1.0;\n",
    "for i in range(10):\n",
    "    ground_distance = i / 10.0\n",
    "    tilt_angle = math.atan2(camera_height, ground_distance) * 180.0 / math.pi\n",
    "    slope_distance = math.sqrt(pow(camera_height, 2) + pow(ground_distance, 2))\n",
    "    tipali.putString(\"State\", 'PREPARE')\n",
    "    tipali.putNumber(\"TiltAngle\", tilt_angle)\n",
    "    tipali.putNumber(\"GroundDistance\", ground_distance)\n",
    "    tipali.putNumber(\"SlopeDistance\", slope_distance)\n",
    "    tipali.putNumber(\"PanAngle\", -10.0)\n",
    "    time.sleep(1)\n",
    "    tipali.putString(\"State\", 'ROTATE_COLLECT')\n",
    "    for j in range(-10, 370, 5):\n",
    "        pan_angle = float(j)\n",
    "        tipali.putNumber(\"PanAngle\", pan_angle)\n",
    "        # print((ground_distance, tilt_angle, pan_angle))\n",
    "        time.sleep(0.05);\n",
    "tipali.putString(\"State\", 'STANDBY')"
   ]
  },
  {
   "cell_type": "code",
   "execution_count": 9,
   "id": "549bf851-cde5-4375-8acb-4e8f8d5e9451",
   "metadata": {},
   "outputs": [
    {
     "data": {
      "text/plain": [
       "True"
      ]
     },
     "execution_count": 9,
     "metadata": {},
     "output_type": "execute_result"
    }
   ],
   "source": [
    "NetworkTables.isConnected()"
   ]
  },
  {
   "cell_type": "code",
   "execution_count": 11,
   "id": "bc9fdde8-2d34-43a7-8fe2-50c8c6b7ef63",
   "metadata": {},
   "outputs": [
    {
     "data": {
      "text/plain": [
       "True"
      ]
     },
     "execution_count": 11,
     "metadata": {},
     "output_type": "execute_result"
    }
   ],
   "source": [
    "NetworkTables.isServer()"
   ]
  },
  {
   "cell_type": "code",
   "execution_count": null,
   "id": "8a3a7efe-0fec-46a8-8e9f-3b35819eac1e",
   "metadata": {},
   "outputs": [],
   "source": []
  }
 ],
 "metadata": {
  "kernelspec": {
   "display_name": "Python [conda env:base] *",
   "language": "python",
   "name": "conda-base-py"
  },
  "language_info": {
   "codemirror_mode": {
    "name": "ipython",
    "version": 3
   },
   "file_extension": ".py",
   "mimetype": "text/x-python",
   "name": "python",
   "nbconvert_exporter": "python",
   "pygments_lexer": "ipython3",
   "version": "3.12.7"
  }
 },
 "nbformat": 4,
 "nbformat_minor": 5
}
