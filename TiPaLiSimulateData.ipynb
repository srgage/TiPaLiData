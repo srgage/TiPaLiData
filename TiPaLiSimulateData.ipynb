{
 "cells": [
  {
   "cell_type": "code",
   "execution_count": 1,
   "id": "6e2b2c10-5482-42cd-9a6d-86d04a3e6d22",
   "metadata": {},
   "outputs": [],
   "source": [
    "import math\n",
    "import time"
   ]
  },
  {
   "cell_type": "code",
   "execution_count": 2,
   "id": "e4de349c-cf83-4c3e-a75c-4a6097f567b1",
   "metadata": {},
   "outputs": [
    {
     "name": "stderr",
     "output_type": "stream",
     "text": [
      "INFO:nt:NetworkTables initialized in server mode\n",
      "DEBUG:nt.th:Started thread nt-dispatch-thread-0\n",
      "DEBUG:nt.th:Started thread nt-server-thread-0\n"
     ]
    },
    {
     "data": {
      "text/plain": [
       "True"
      ]
     },
     "execution_count": 2,
     "metadata": {},
     "output_type": "execute_result"
    },
    {
     "name": "stderr",
     "output_type": "stream",
     "text": [
      "DEBUG:nt:Listening on  1735\n",
      "DEBUG:nt:server: client connection from 127.0.0.1 port 37382\n",
      "DEBUG:nt.th:Started thread nt-net-write-0\n",
      "DEBUG:nt.th:Started thread nt-net-read-0\n",
      "INFO:nt:CONNECTED 127.0.0.1 port 37382 (pynetworktables 2021.0.0)\n",
      "INFO:nt:DISCONNECTED 127.0.0.1 port 37382 (pynetworktables 2021.0.0)\n",
      "DEBUG:nt.th:Thread nt-net-read-0 exited\n",
      "DEBUG:nt.th:Thread nt-net-write-0 exited\n",
      "DEBUG:nt:server: client connection from 127.0.0.1 port 36856\n",
      "DEBUG:nt.th:Started thread nt-net-write-1\n",
      "DEBUG:nt.th:Started thread nt-net-read-1\n",
      "INFO:nt:CONNECTED 127.0.0.1 port 36856 (pynetworktables 2021.0.0)\n",
      "INFO:nt:DISCONNECTED 127.0.0.1 port 36856 (pynetworktables 2021.0.0)\n",
      "DEBUG:nt.th:Thread nt-net-read-1 exited\n",
      "DEBUG:nt.th:Thread nt-net-write-1 exited\n"
     ]
    }
   ],
   "source": [
    "from networktables import NetworkTables\n",
    "\n",
    "import logging\n",
    "logging.basicConfig(level=logging.DEBUG)\n",
    "\n",
    "NetworkTables.initialize()"
   ]
  },
  {
   "cell_type": "code",
   "execution_count": 3,
   "id": "5b2de6ec-3458-4297-8be1-6f89ade0ce07",
   "metadata": {},
   "outputs": [],
   "source": [
    "tipali = NetworkTables.getTable(\"TiPaLi\")"
   ]
  },
  {
   "cell_type": "code",
   "execution_count": 4,
   "id": "c9e4f7e3-59b3-4329-b3ec-7bb729b4c576",
   "metadata": {},
   "outputs": [
    {
     "data": {
      "text/plain": [
       "True"
      ]
     },
     "execution_count": 4,
     "metadata": {},
     "output_type": "execute_result"
    }
   ],
   "source": [
    "tipali.putString(\"STATE\", 'STANDBY')\n",
    "tipali.putNumber(\"TILT_ANGLE\", 0.0)\n",
    "tipali.putNumber(\"PAN_ANGLE\", 0.0)\n",
    "tipali.putNumber(\"GROUND_DISTANCE\", 0.0)\n",
    "tipali.putNumber(\"SLOPE_DISTANCE\", 0.0)"
   ]
  },
  {
   "cell_type": "code",
   "execution_count": 6,
   "id": "ee552637-007d-4c62-aa69-24e570131178",
   "metadata": {},
   "outputs": [
    {
     "data": {
      "text/plain": [
       "True"
      ]
     },
     "execution_count": 6,
     "metadata": {},
     "output_type": "execute_result"
    }
   ],
   "source": [
    "# simulate a run\n",
    "camera_height = 1.0;\n",
    "for i in range(10):\n",
    "    ground_distance = i / 10.0\n",
    "    tilt_angle = math.atan2(camera_height, ground_distance) * 180.0 / math.pi\n",
    "    slope_distance = math.sqrt(pow(camera_height, 2) + pow(ground_distance, 2))\n",
    "    tipali.putString(\"STATE\", 'PREPARE')\n",
    "    tipali.putNumber(\"TILT_ANGLE\", tilt_angle)\n",
    "    tipali.putNumber(\"GROUND_DISTANCE\", ground_distance)\n",
    "    tipali.putNumber(\"SLOPE_DISTANCE\", slope_distance)\n",
    "    tipali.putNumber(\"PAN_ANGLE\", -10.0)\n",
    "    time.sleep(1)\n",
    "    tipali.putString(\"STATE\", 'PAN_COLLECT')\n",
    "    for j in range(-10, 370, 5):\n",
    "        pan_angle = float(j)\n",
    "        tipali.putNumber(\"PAN_ANGLE\", pan_angle)\n",
    "        # print((ground_distance, tilt_angle, pan_angle))\n",
    "        time.sleep(0.05);\n",
    "tipali.putString(\"STATE\", 'STANDBY')"
   ]
  },
  {
   "cell_type": "code",
   "execution_count": null,
   "id": "549bf851-cde5-4375-8acb-4e8f8d5e9451",
   "metadata": {},
   "outputs": [],
   "source": []
  }
 ],
 "metadata": {
  "kernelspec": {
   "display_name": "Python 3 (ipykernel)",
   "language": "python",
   "name": "python3"
  },
  "language_info": {
   "codemirror_mode": {
    "name": "ipython",
    "version": 3
   },
   "file_extension": ".py",
   "mimetype": "text/x-python",
   "name": "python",
   "nbconvert_exporter": "python",
   "pygments_lexer": "ipython3",
   "version": "3.12.2"
  }
 },
 "nbformat": 4,
 "nbformat_minor": 5
}
